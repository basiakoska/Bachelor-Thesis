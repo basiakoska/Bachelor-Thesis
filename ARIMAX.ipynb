{
 "cells": [
  {
   "cell_type": "code",
   "execution_count": 1,
   "id": "921a0148",
   "metadata": {},
   "outputs": [],
   "source": [
    "import numpy as np\n",
    "import pandas as pd\n",
    "import matplotlib.pyplot as plt\n",
    "import matplotlib.dates as mdates\n",
    "import datetime as dt\n",
    "import seaborn as sns\n",
    "from datetime import datetime, date, timedelta\n",
    "from statsmodels.tsa.stattools import acf, pacf\n",
    "from statsmodels.graphics.tsaplots import plot_acf\n",
    "from statsmodels.graphics.tsaplots import plot_pacf"
   ]
  },
  {
   "cell_type": "code",
   "execution_count": 2,
   "id": "31ecf8df",
   "metadata": {},
   "outputs": [
    {
     "data": {
      "text/html": [
       "<div>\n",
       "<style scoped>\n",
       "    .dataframe tbody tr th:only-of-type {\n",
       "        vertical-align: middle;\n",
       "    }\n",
       "\n",
       "    .dataframe tbody tr th {\n",
       "        vertical-align: top;\n",
       "    }\n",
       "\n",
       "    .dataframe thead th {\n",
       "        text-align: right;\n",
       "    }\n",
       "</style>\n",
       "<table border=\"1\" class=\"dataframe\">\n",
       "  <thead>\n",
       "    <tr style=\"text-align: right;\">\n",
       "      <th></th>\n",
       "      <th>datetime</th>\n",
       "      <th>Origin</th>\n",
       "      <th>Day</th>\n",
       "      <th>Month</th>\n",
       "      <th>Week</th>\n",
       "      <th>Weekday</th>\n",
       "      <th>Hour</th>\n",
       "      <th>Minute</th>\n",
       "      <th>Price</th>\n",
       "      <th>Output</th>\n",
       "    </tr>\n",
       "  </thead>\n",
       "  <tbody>\n",
       "    <tr>\n",
       "      <th>0</th>\n",
       "      <td>2022-01-01 15:00:00</td>\n",
       "      <td>1</td>\n",
       "      <td>1</td>\n",
       "      <td>1</td>\n",
       "      <td>1</td>\n",
       "      <td>1</td>\n",
       "      <td>15</td>\n",
       "      <td>0</td>\n",
       "      <td>349.0</td>\n",
       "      <td>55</td>\n",
       "    </tr>\n",
       "    <tr>\n",
       "      <th>1</th>\n",
       "      <td>2022-01-01 16:15:00</td>\n",
       "      <td>0</td>\n",
       "      <td>1</td>\n",
       "      <td>1</td>\n",
       "      <td>1</td>\n",
       "      <td>1</td>\n",
       "      <td>16</td>\n",
       "      <td>15</td>\n",
       "      <td>349.0</td>\n",
       "      <td>25</td>\n",
       "    </tr>\n",
       "    <tr>\n",
       "      <th>2</th>\n",
       "      <td>2022-01-02 07:00:00</td>\n",
       "      <td>1</td>\n",
       "      <td>2</td>\n",
       "      <td>1</td>\n",
       "      <td>1</td>\n",
       "      <td>2</td>\n",
       "      <td>7</td>\n",
       "      <td>0</td>\n",
       "      <td>399.0</td>\n",
       "      <td>44</td>\n",
       "    </tr>\n",
       "    <tr>\n",
       "      <th>3</th>\n",
       "      <td>2022-01-02 08:15:00</td>\n",
       "      <td>0</td>\n",
       "      <td>2</td>\n",
       "      <td>1</td>\n",
       "      <td>1</td>\n",
       "      <td>2</td>\n",
       "      <td>8</td>\n",
       "      <td>15</td>\n",
       "      <td>399.0</td>\n",
       "      <td>13</td>\n",
       "    </tr>\n",
       "    <tr>\n",
       "      <th>4</th>\n",
       "      <td>2022-01-02 15:15:00</td>\n",
       "      <td>1</td>\n",
       "      <td>2</td>\n",
       "      <td>1</td>\n",
       "      <td>52</td>\n",
       "      <td>6</td>\n",
       "      <td>15</td>\n",
       "      <td>15</td>\n",
       "      <td>399.0</td>\n",
       "      <td>25</td>\n",
       "    </tr>\n",
       "  </tbody>\n",
       "</table>\n",
       "</div>"
      ],
      "text/plain": [
       "             datetime  Origin  Day  Month  Week  Weekday  Hour  Minute  Price  \\\n",
       "0 2022-01-01 15:00:00       1    1      1     1        1    15       0  349.0   \n",
       "1 2022-01-01 16:15:00       0    1      1     1        1    16      15  349.0   \n",
       "2 2022-01-02 07:00:00       1    2      1     1        2     7       0  399.0   \n",
       "3 2022-01-02 08:15:00       0    2      1     1        2     8      15  399.0   \n",
       "4 2022-01-02 15:15:00       1    2      1    52        6    15      15  399.0   \n",
       "\n",
       "   Output  \n",
       "0      55  \n",
       "1      25  \n",
       "2      44  \n",
       "3      13  \n",
       "4      25  "
      ]
     },
     "execution_count": 2,
     "metadata": {},
     "output_type": "execute_result"
    }
   ],
   "source": [
    "df= pd.read_excel(r'C:\\Users\\basia\\OneDrive\\Pulpit\\sdu shit\\thesis\\READY DATASETS\\median.xlsx')\n",
    "df.head()\n"
   ]
  },
  {
   "cell_type": "code",
   "execution_count": 4,
   "id": "c300a569",
   "metadata": {},
   "outputs": [
    {
     "data": {
      "text/plain": [
       "(4099, 10)"
      ]
     },
     "execution_count": 4,
     "metadata": {},
     "output_type": "execute_result"
    }
   ],
   "source": [
    "df.shape"
   ]
  },
  {
   "cell_type": "code",
   "execution_count": 6,
   "id": "da0f112a",
   "metadata": {},
   "outputs": [
    {
     "name": "stdout",
     "output_type": "stream",
     "text": [
      "datetime    datetime64[ns]\n",
      "Origin             float64\n",
      "Day                  int64\n",
      "Month                int64\n",
      "Week               float64\n",
      "Weekday              int64\n",
      "Hour                 int64\n",
      "Minute               int64\n",
      "Price              float64\n",
      "Output               int64\n",
      "dtype: object\n"
     ]
    }
   ],
   "source": [
    "df['Origin'] = df['Origin'].astype(float)\n",
    "df['Week'] = df['Week'].astype(float)\n",
    "df['datetime'] = pd.to_datetime(df['datetime'])\n",
    "print(df.dtypes)\n",
    "train_data = df[df['datetime'] < '2022-10-01']\n",
    "test_data = df[df['datetime'] >= '2022-10-01']\n",
    "\n"
   ]
  },
  {
   "cell_type": "code",
   "execution_count": 7,
   "id": "309484ef",
   "metadata": {},
   "outputs": [
    {
     "name": "stderr",
     "output_type": "stream",
     "text": [
      "C:\\Users\\basia\\AppData\\Local\\Programs\\Python\\Python310\\lib\\site-packages\\statsmodels\\base\\model.py:604: ConvergenceWarning: Maximum Likelihood optimization failed to converge. Check mle_retvals\n",
      "  warnings.warn(\"Maximum Likelihood optimization failed to \"\n",
      "C:\\Users\\basia\\AppData\\Local\\Temp\\ipykernel_8012\\235258785.py:4: SettingWithCopyWarning: \n",
      "A value is trying to be set on a copy of a slice from a DataFrame.\n",
      "Try using .loc[row_indexer,col_indexer] = value instead\n",
      "\n",
      "See the caveats in the documentation: https://pandas.pydata.org/pandas-docs/stable/user_guide/indexing.html#returning-a-view-versus-a-copy\n",
      "  test_data['predicted_demand'] = arimax_results.predict(start=test_data.index.min(), end=test_data.index.max(), exog=test_data[['Origin', 'Weekday', 'Week','Month','Hour', 'Minute', 'Price']])\n"
     ]
    }
   ],
   "source": [
    "import statsmodels.api as sm\n",
    "arimax_model = sm.tsa.ARIMA(train_data['Output'], order=(2, 1, 0), exog=train_data[['Origin', 'Weekday', 'Week',  'Month', 'Hour', 'Minute', 'Price']])\n",
    "arimax_results = arimax_model.fit()\n",
    "test_data['predicted_demand'] = arimax_results.predict(start=test_data.index.min(), end=test_data.index.max(), exog=test_data[['Origin', 'Weekday', 'Week','Month','Hour', 'Minute', 'Price']])\n"
   ]
  },
  {
   "cell_type": "code",
   "execution_count": 9,
   "id": "355a07b6",
   "metadata": {},
   "outputs": [
    {
     "name": "stdout",
     "output_type": "stream",
     "text": [
      "Mean Squared Error (MSE): 91.34\n"
     ]
    }
   ],
   "source": [
    "from sklearn.metrics import mean_squared_error\n",
    "\n",
    "# calculate the mean squared error (MSE) of the predicted demand and actual demand\n",
    "mse = mean_squared_error(test_data['Output'], test_data['predicted_demand'])\n",
    "\n",
    "print(f\"Mean Squared Error (MSE): {mse:.2f}\")"
   ]
  },
  {
   "cell_type": "code",
   "execution_count": 14,
   "id": "79bdfcf4",
   "metadata": {},
   "outputs": [
    {
     "data": {
      "text/plain": [
       "7.431902735209383"
      ]
     },
     "execution_count": 14,
     "metadata": {},
     "output_type": "execute_result"
    }
   ],
   "source": [
    "from sklearn.metrics import mean_absolute_error\n",
    "mean_absolute_error(test_data['Output'], test_data['predicted_demand']) #"
   ]
  },
  {
   "cell_type": "code",
   "execution_count": 10,
   "id": "3abe39d8",
   "metadata": {},
   "outputs": [
    {
     "data": {
      "text/plain": [
       "[<matplotlib.lines.Line2D at 0x2280bfb7b20>]"
      ]
     },
     "execution_count": 10,
     "metadata": {},
     "output_type": "execute_result"
    },
    {
     "data": {
      "image/png": "[encoded data removed]",
      "text/plain": [
       "<Figure size 432x288 with 1 Axes>"
      ]
     },
     "metadata": {
      "needs_background": "light"
     },
     "output_type": "display_data"
    }
   ],
   "source": [
    "plt.plot(test_data['datetime'],test_data['predicted_demand'])\n"
   ]
  },
  {
   "cell_type": "code",
   "execution_count": 12,
   "id": "348bcdb7",
   "metadata": {},
   "outputs": [
    {
     "data": {
      "text/plain": [
       "[<matplotlib.lines.Line2D at 0x22816a0dc00>]"
      ]
     },
     "execution_count": 12,
     "metadata": {},
     "output_type": "execute_result"
    },
    {
     "data": {
      "image/png": "[encoded data removed]",
      "text/plain": [
       "<Figure size 432x288 with 1 Axes>"
      ]
     },
     "metadata": {
      "needs_background": "light"
     },
     "output_type": "display_data"
    }
   ],
   "source": [
    "plt.plot(train_data['datetime'], train_data['Output'], label='Train Data')\n",
    "plt.plot(test_data['datetime'], test_data['Output'], label='Test Data')\n",
    "plt.plot(test_data['datetime'], test_data['predicted_demand'], label='Predicted Data')\n"
   ]
  },
  {
   "cell_type": "code",
   "execution_count": null,
   "id": "78da0484",
   "metadata": {},
   "outputs": [],
   "source": []
  }
 ],
 "metadata": {
  "kernelspec": {
   "display_name": "Python 3 (ipykernel)",
   "language": "python",
   "name": "python3"
  },
  "language_info": {
   "codemirror_mode": {
    "name": "ipython",
    "version": 3
   },
   "file_extension": ".py",
   "mimetype": "text/x-python",
   "name": "python",
   "nbconvert_exporter": "python",
   "pygments_lexer": "ipython3",
   "version": "3.10.2"
  }
 },
 "nbformat": 4,
 "nbformat_minor": 5
}
