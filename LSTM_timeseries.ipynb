{
 "cells": [
  {
   "cell_type": "code",
   "execution_count": 1,
   "id": "256635ec",
   "metadata": {},
   "outputs": [],
   "source": [
    "import numpy as np\n",
    "import pandas as pd\n",
    "import matplotlib.pyplot as plt\n",
    "import matplotlib.dates as mdates\n",
    "import datetime as dt\n",
    "import seaborn as sns\n",
    "from datetime import datetime, date, timedelta\n",
    "from sklearn.preprocessing import MinMaxScaler\n",
    "from tensorflow.keras.models import Sequential\n",
    "from tensorflow.keras.layers import LSTM, Dense\n",
    "\n"
   ]
  },
  {
   "cell_type": "code",
   "execution_count": 2,
   "id": "ce3e7a3e",
   "metadata": {},
   "outputs": [
    {
     "data": {
      "text/html": [
       "<div>\n",
       "<style scoped>\n",
       "    .dataframe tbody tr th:only-of-type {\n",
       "        vertical-align: middle;\n",
       "    }\n",
       "\n",
       "    .dataframe tbody tr th {\n",
       "        vertical-align: top;\n",
       "    }\n",
       "\n",
       "    .dataframe thead th {\n",
       "        text-align: right;\n",
       "    }\n",
       "</style>\n",
       "<table border=\"1\" class=\"dataframe\">\n",
       "  <thead>\n",
       "    <tr style=\"text-align: right;\">\n",
       "      <th></th>\n",
       "      <th>datetime</th>\n",
       "      <th>Origin</th>\n",
       "      <th>Day</th>\n",
       "      <th>Month</th>\n",
       "      <th>Week</th>\n",
       "      <th>Weekday</th>\n",
       "      <th>Hour</th>\n",
       "      <th>Minute</th>\n",
       "      <th>Price</th>\n",
       "      <th>Output</th>\n",
       "    </tr>\n",
       "  </thead>\n",
       "  <tbody>\n",
       "    <tr>\n",
       "      <th>0</th>\n",
       "      <td>2022-01-01 15:00:00</td>\n",
       "      <td>1</td>\n",
       "      <td>1</td>\n",
       "      <td>1</td>\n",
       "      <td>1</td>\n",
       "      <td>1</td>\n",
       "      <td>15</td>\n",
       "      <td>0</td>\n",
       "      <td>349.0</td>\n",
       "      <td>55</td>\n",
       "    </tr>\n",
       "    <tr>\n",
       "      <th>1</th>\n",
       "      <td>2022-01-01 16:15:00</td>\n",
       "      <td>0</td>\n",
       "      <td>1</td>\n",
       "      <td>1</td>\n",
       "      <td>1</td>\n",
       "      <td>1</td>\n",
       "      <td>16</td>\n",
       "      <td>15</td>\n",
       "      <td>349.0</td>\n",
       "      <td>25</td>\n",
       "    </tr>\n",
       "    <tr>\n",
       "      <th>2</th>\n",
       "      <td>2022-01-02 07:00:00</td>\n",
       "      <td>1</td>\n",
       "      <td>2</td>\n",
       "      <td>1</td>\n",
       "      <td>1</td>\n",
       "      <td>2</td>\n",
       "      <td>7</td>\n",
       "      <td>0</td>\n",
       "      <td>399.0</td>\n",
       "      <td>44</td>\n",
       "    </tr>\n",
       "    <tr>\n",
       "      <th>3</th>\n",
       "      <td>2022-01-02 08:15:00</td>\n",
       "      <td>0</td>\n",
       "      <td>2</td>\n",
       "      <td>1</td>\n",
       "      <td>1</td>\n",
       "      <td>2</td>\n",
       "      <td>8</td>\n",
       "      <td>15</td>\n",
       "      <td>399.0</td>\n",
       "      <td>13</td>\n",
       "    </tr>\n",
       "    <tr>\n",
       "      <th>4</th>\n",
       "      <td>2022-01-02 15:15:00</td>\n",
       "      <td>1</td>\n",
       "      <td>2</td>\n",
       "      <td>1</td>\n",
       "      <td>52</td>\n",
       "      <td>6</td>\n",
       "      <td>15</td>\n",
       "      <td>15</td>\n",
       "      <td>399.0</td>\n",
       "      <td>25</td>\n",
       "    </tr>\n",
       "  </tbody>\n",
       "</table>\n",
       "</div>"
      ],
      "text/plain": [
       "             datetime  Origin  Day  Month  Week  Weekday  Hour  Minute  Price  \\\n",
       "0 2022-01-01 15:00:00       1    1      1     1        1    15       0  349.0   \n",
       "1 2022-01-01 16:15:00       0    1      1     1        1    16      15  349.0   \n",
       "2 2022-01-02 07:00:00       1    2      1     1        2     7       0  399.0   \n",
       "3 2022-01-02 08:15:00       0    2      1     1        2     8      15  399.0   \n",
       "4 2022-01-02 15:15:00       1    2      1    52        6    15      15  399.0   \n",
       "\n",
       "   Output  \n",
       "0      55  \n",
       "1      25  \n",
       "2      44  \n",
       "3      13  \n",
       "4      25  "
      ]
     },
     "execution_count": 2,
     "metadata": {},
     "output_type": "execute_result"
    }
   ],
   "source": [
    "df= pd.read_excel(r'C:\\Users\\basia\\OneDrive\\Pulpit\\sdu shit\\thesis\\READY DATASETS\\median.xlsx')\n",
    "df.head()\n"
   ]
  },
  {
   "cell_type": "code",
   "execution_count": 3,
   "id": "d50ee78a",
   "metadata": {},
   "outputs": [
    {
     "data": {
      "text/plain": [
       "(4099, 10)"
      ]
     },
     "execution_count": 3,
     "metadata": {},
     "output_type": "execute_result"
    }
   ],
   "source": [
    "df.shape"
   ]
  },
  {
   "cell_type": "code",
   "execution_count": 4,
   "id": "4d3925c7",
   "metadata": {},
   "outputs": [],
   "source": [
    "# Convert the 'datetime' column to datetime type\n",
    "df['datetime'] = pd.to_datetime(df['datetime'])\n",
    "\n",
    "# Set the 'datetime' column as the index\n",
    "df.set_index('datetime', inplace=True)\n",
    "\n",
    "# Extract exogenous features and target variable\n",
    "exogenous_features = df[['Origin', 'Day', 'Month', 'Week', 'Weekday', 'Hour', 'Minute', 'Price']]\n",
    "target_variable = df['Output']\n"
   ]
  },
  {
   "cell_type": "code",
   "execution_count": 6,
   "id": "88251cf3",
   "metadata": {},
   "outputs": [],
   "source": [
    "# Initialize the scaler\n",
    "scaler = MinMaxScaler()\n",
    "\n",
    "# Normalize the exogenous features\n",
    "exogenous_features_scaled = scaler.fit_transform(exogenous_features)\n",
    "\n",
    "# Normalize the target variable\n",
    "target_variable_scaled = scaler.fit_transform(target_variable.values.reshape(-1, 1))\n"
   ]
  },
  {
   "cell_type": "code",
   "execution_count": 14,
   "id": "079a90a5",
   "metadata": {},
   "outputs": [],
   "source": [
    "# Set the train-test split ratio\n",
    "split_ratio = 0.8\n",
    "\n",
    "# Determine the split index\n",
    "split_index = int(len(df) * split_ratio)\n",
    "\n",
    "# Split the exogenous features and target variable\n",
    "exogenous_train = exogenous_features_scaled[:split_index]\n",
    "exogenous_test = exogenous_features_scaled[split_index:]\n",
    "target_train = target_variable_scaled[:split_index]\n",
    "target_test = target_variable_scaled[split_index:]\n"
   ]
  },
  {
   "cell_type": "code",
   "execution_count": 15,
   "id": "95f943e5",
   "metadata": {},
   "outputs": [
    {
     "data": {
      "text/plain": [
       "(3279, 8)"
      ]
     },
     "execution_count": 15,
     "metadata": {},
     "output_type": "execute_result"
    }
   ],
   "source": [
    "exogenous_train.shape"
   ]
  },
  {
   "cell_type": "code",
   "execution_count": 16,
   "id": "d3f1fae1",
   "metadata": {},
   "outputs": [],
   "source": [
    "# Define the number of time steps and features\n",
    "time_steps = 10\n",
    "num_features = exogenous_features.shape[1]\n",
    "\n",
    "# Function to create input sequences\n",
    "def create_sequences(X, y, time_steps):\n",
    "    X_seq, y_seq = [], []\n",
    "    for i in range(len(X) - time_steps):\n",
    "        X_seq.append(X[i:i + time_steps])\n",
    "        y_seq.append(y[i + time_steps])\n",
    "    return np.array(X_seq), np.array(y_seq)\n",
    "\n",
    "# Create input sequences for training and test sets\n",
    "X_train, y_train = create_sequences(exogenous_train, target_train, time_steps)\n",
    "X_test, y_test = create_sequences(exogenous_test, target_test, time_steps)\n"
   ]
  },
  {
   "cell_type": "code",
   "execution_count": 17,
   "id": "8179d669",
   "metadata": {},
   "outputs": [
    {
     "name": "stdout",
     "output_type": "stream",
     "text": [
      "Epoch 1/100\n",
      "103/103 [==============================] - 6s 12ms/step - loss: 0.0356\n",
      "Epoch 2/100\n",
      "103/103 [==============================] - 1s 12ms/step - loss: 0.0289\n",
      "Epoch 3/100\n",
      "103/103 [==============================] - 1s 10ms/step - loss: 0.0283\n",
      "Epoch 4/100\n",
      "103/103 [==============================] - 1s 10ms/step - loss: 0.0283\n",
      "Epoch 5/100\n",
      "103/103 [==============================] - 1s 12ms/step - loss: 0.0274\n",
      "Epoch 6/100\n",
      "103/103 [==============================] - 1s 11ms/step - loss: 0.0268\n",
      "Epoch 7/100\n",
      "103/103 [==============================] - 1s 12ms/step - loss: 0.0265\n",
      "Epoch 8/100\n",
      "103/103 [==============================] - 1s 12ms/step - loss: 0.0263\n",
      "Epoch 9/100\n",
      "103/103 [==============================] - 1s 11ms/step - loss: 0.0258\n",
      "Epoch 10/100\n",
      "103/103 [==============================] - 1s 11ms/step - loss: 0.0258\n",
      "Epoch 11/100\n",
      "103/103 [==============================] - 1s 12ms/step - loss: 0.0256\n",
      "Epoch 12/100\n",
      "103/103 [==============================] - 1s 11ms/step - loss: 0.0254\n",
      "Epoch 13/100\n",
      "103/103 [==============================] - 1s 11ms/step - loss: 0.0249\n",
      "Epoch 14/100\n",
      "103/103 [==============================] - 1s 12ms/step - loss: 0.0247\n",
      "Epoch 15/100\n",
      "103/103 [==============================] - 1s 10ms/step - loss: 0.0246\n",
      "Epoch 16/100\n",
      "103/103 [==============================] - 1s 10ms/step - loss: 0.0247\n",
      "Epoch 17/100\n",
      "103/103 [==============================] - 1s 11ms/step - loss: 0.0240\n",
      "Epoch 18/100\n",
      "103/103 [==============================] - 1s 11ms/step - loss: 0.0239\n",
      "Epoch 19/100\n",
      "103/103 [==============================] - 1s 10ms/step - loss: 0.0233\n",
      "Epoch 20/100\n",
      "103/103 [==============================] - 1s 11ms/step - loss: 0.0233\n",
      "Epoch 21/100\n",
      "103/103 [==============================] - 1s 10ms/step - loss: 0.0228\n",
      "Epoch 22/100\n",
      "103/103 [==============================] - 1s 11ms/step - loss: 0.0225\n",
      "Epoch 23/100\n",
      "103/103 [==============================] - 1s 11ms/step - loss: 0.0222\n",
      "Epoch 24/100\n",
      "103/103 [==============================] - 1s 10ms/step - loss: 0.0221\n",
      "Epoch 25/100\n",
      "103/103 [==============================] - 1s 11ms/step - loss: 0.0219\n",
      "Epoch 26/100\n",
      "103/103 [==============================] - 1s 11ms/step - loss: 0.0216\n",
      "Epoch 27/100\n",
      "103/103 [==============================] - 1s 11ms/step - loss: 0.0214\n",
      "Epoch 28/100\n",
      "103/103 [==============================] - 1s 11ms/step - loss: 0.0208\n",
      "Epoch 29/100\n",
      "103/103 [==============================] - 1s 12ms/step - loss: 0.0211\n",
      "Epoch 30/100\n",
      "103/103 [==============================] - 1s 10ms/step - loss: 0.0210\n",
      "Epoch 31/100\n",
      "103/103 [==============================] - 1s 11ms/step - loss: 0.0198\n",
      "Epoch 32/100\n",
      "103/103 [==============================] - 1s 11ms/step - loss: 0.0200\n",
      "Epoch 33/100\n",
      "103/103 [==============================] - 1s 12ms/step - loss: 0.0196\n",
      "Epoch 34/100\n",
      "103/103 [==============================] - 1s 12ms/step - loss: 0.0194\n",
      "Epoch 35/100\n",
      "103/103 [==============================] - 1s 11ms/step - loss: 0.0188\n",
      "Epoch 36/100\n",
      "103/103 [==============================] - 1s 10ms/step - loss: 0.0186\n",
      "Epoch 37/100\n",
      "103/103 [==============================] - 1s 10ms/step - loss: 0.0182\n",
      "Epoch 38/100\n",
      "103/103 [==============================] - 1s 11ms/step - loss: 0.0179\n",
      "Epoch 39/100\n",
      "103/103 [==============================] - 1s 12ms/step - loss: 0.0175\n",
      "Epoch 40/100\n",
      "103/103 [==============================] - 1s 11ms/step - loss: 0.0169\n",
      "Epoch 41/100\n",
      "103/103 [==============================] - 1s 11ms/step - loss: 0.0167\n",
      "Epoch 42/100\n",
      "103/103 [==============================] - 1s 11ms/step - loss: 0.0164\n",
      "Epoch 43/100\n",
      "103/103 [==============================] - 1s 12ms/step - loss: 0.0161\n",
      "Epoch 44/100\n",
      "103/103 [==============================] - 1s 12ms/step - loss: 0.0156\n",
      "Epoch 45/100\n",
      "103/103 [==============================] - 1s 12ms/step - loss: 0.0155\n",
      "Epoch 46/100\n",
      "103/103 [==============================] - 1s 12ms/step - loss: 0.0152\n",
      "Epoch 47/100\n",
      "103/103 [==============================] - 1s 11ms/step - loss: 0.0150\n",
      "Epoch 48/100\n",
      "103/103 [==============================] - 1s 11ms/step - loss: 0.0152\n",
      "Epoch 49/100\n",
      "103/103 [==============================] - 1s 11ms/step - loss: 0.0147\n",
      "Epoch 50/100\n",
      "103/103 [==============================] - 1s 11ms/step - loss: 0.0144\n",
      "Epoch 51/100\n",
      "103/103 [==============================] - 1s 13ms/step - loss: 0.0140\n",
      "Epoch 52/100\n",
      "103/103 [==============================] - 1s 11ms/step - loss: 0.0139\n",
      "Epoch 53/100\n",
      "103/103 [==============================] - 1s 12ms/step - loss: 0.0138\n",
      "Epoch 54/100\n",
      "103/103 [==============================] - 1s 12ms/step - loss: 0.0136\n",
      "Epoch 55/100\n",
      "103/103 [==============================] - 1s 11ms/step - loss: 0.0135\n",
      "Epoch 56/100\n",
      "103/103 [==============================] - 1s 11ms/step - loss: 0.0133\n",
      "Epoch 57/100\n",
      "103/103 [==============================] - 1s 11ms/step - loss: 0.0130\n",
      "Epoch 58/100\n",
      "103/103 [==============================] - 1s 12ms/step - loss: 0.0126\n",
      "Epoch 59/100\n",
      "103/103 [==============================] - 1s 11ms/step - loss: 0.0123\n",
      "Epoch 60/100\n",
      "103/103 [==============================] - 1s 11ms/step - loss: 0.0125\n",
      "Epoch 61/100\n",
      "103/103 [==============================] - 1s 13ms/step - loss: 0.0124\n",
      "Epoch 62/100\n",
      "103/103 [==============================] - 1s 12ms/step - loss: 0.0125\n",
      "Epoch 63/100\n",
      "103/103 [==============================] - 1s 12ms/step - loss: 0.0121\n",
      "Epoch 64/100\n",
      "103/103 [==============================] - 1s 11ms/step - loss: 0.0117\n",
      "Epoch 65/100\n",
      "103/103 [==============================] - 1s 11ms/step - loss: 0.0115\n",
      "Epoch 66/100\n",
      "103/103 [==============================] - 1s 11ms/step - loss: 0.0113\n",
      "Epoch 67/100\n",
      "103/103 [==============================] - 1s 12ms/step - loss: 0.0116\n",
      "Epoch 68/100\n",
      "103/103 [==============================] - 1s 11ms/step - loss: 0.0113\n",
      "Epoch 69/100\n",
      "103/103 [==============================] - 1s 13ms/step - loss: 0.0114\n",
      "Epoch 70/100\n",
      "103/103 [==============================] - 1s 11ms/step - loss: 0.0108\n",
      "Epoch 71/100\n",
      "103/103 [==============================] - 1s 11ms/step - loss: 0.0106\n",
      "Epoch 72/100\n",
      "103/103 [==============================] - 1s 12ms/step - loss: 0.0105\n",
      "Epoch 73/100\n",
      "103/103 [==============================] - 6s 58ms/step - loss: 0.0105\n",
      "Epoch 74/100\n",
      "103/103 [==============================] - 8s 79ms/step - loss: 0.0107\n",
      "Epoch 75/100\n",
      "103/103 [==============================] - 7s 70ms/step - loss: 0.0101\n",
      "Epoch 76/100\n",
      "103/103 [==============================] - 1s 11ms/step - loss: 0.0099\n",
      "Epoch 77/100\n",
      "103/103 [==============================] - 1s 10ms/step - loss: 0.0101\n",
      "Epoch 78/100\n",
      "103/103 [==============================] - 1s 11ms/step - loss: 0.0098\n",
      "Epoch 79/100\n",
      "103/103 [==============================] - 1s 11ms/step - loss: 0.0094\n",
      "Epoch 80/100\n",
      "103/103 [==============================] - 1s 10ms/step - loss: 0.0094\n",
      "Epoch 81/100\n",
      "103/103 [==============================] - 1s 12ms/step - loss: 0.0093\n",
      "Epoch 82/100\n",
      "103/103 [==============================] - 1s 11ms/step - loss: 0.0089\n",
      "Epoch 83/100\n",
      "103/103 [==============================] - 1s 10ms/step - loss: 0.0089\n",
      "Epoch 84/100\n",
      "103/103 [==============================] - 1s 10ms/step - loss: 0.0086\n",
      "Epoch 85/100\n",
      "103/103 [==============================] - 1s 11ms/step - loss: 0.0087\n",
      "Epoch 86/100\n",
      "103/103 [==============================] - 1s 11ms/step - loss: 0.0084\n",
      "Epoch 87/100\n",
      "103/103 [==============================] - 1s 10ms/step - loss: 0.0084\n",
      "Epoch 88/100\n",
      "103/103 [==============================] - 1s 11ms/step - loss: 0.0082\n",
      "Epoch 89/100\n",
      "103/103 [==============================] - 1s 13ms/step - loss: 0.0081\n",
      "Epoch 90/100\n",
      "103/103 [==============================] - 1s 13ms/step - loss: 0.0077\n",
      "Epoch 91/100\n",
      "103/103 [==============================] - 1s 12ms/step - loss: 0.0077\n",
      "Epoch 92/100\n",
      "103/103 [==============================] - 1s 11ms/step - loss: 0.0076\n",
      "Epoch 93/100\n",
      "103/103 [==============================] - 1s 11ms/step - loss: 0.0075\n",
      "Epoch 94/100\n",
      "103/103 [==============================] - 1s 11ms/step - loss: 0.0074\n",
      "Epoch 95/100\n",
      "103/103 [==============================] - 1s 11ms/step - loss: 0.0080\n",
      "Epoch 96/100\n",
      "103/103 [==============================] - 1s 11ms/step - loss: 0.0069\n",
      "Epoch 97/100\n",
      "103/103 [==============================] - 1s 11ms/step - loss: 0.0069\n",
      "Epoch 98/100\n",
      "103/103 [==============================] - 1s 11ms/step - loss: 0.0066\n",
      "Epoch 99/100\n",
      "103/103 [==============================] - 1s 11ms/step - loss: 0.0066\n",
      "Epoch 100/100\n",
      "103/103 [==============================] - 1s 12ms/step - loss: 0.0065\n"
     ]
    },
    {
     "data": {
      "text/plain": [
       "<keras.callbacks.History at 0x1db0b3877c0>"
      ]
     },
     "execution_count": 17,
     "metadata": {},
     "output_type": "execute_result"
    }
   ],
   "source": [
    "# Define the model architecture\n",
    "model = Sequential()\n",
    "model.add(LSTM(units=64, input_shape=(time_steps, num_features), return_sequences=True))\n",
    "model.add(LSTM(units=64))\n",
    "model.add(Dense(1))\n",
    "\n",
    "# Compile the model\n",
    "model.compile(optimizer='adam', loss='mean_squared_error')\n",
    "\n",
    "# Train the model\n",
    "model.fit(X_train, y_train, epochs=100, batch_size=32)\n"
   ]
  },
  {
   "cell_type": "code",
   "execution_count": 18,
   "id": "8b92aee0",
   "metadata": {},
   "outputs": [
    {
     "name": "stdout",
     "output_type": "stream",
     "text": [
      "RMSE: 10.440987826250117\n"
     ]
    }
   ],
   "source": [
    "# Generate predictions on the test set\n",
    "predictions = model.predict(X_test)\n",
    "\n",
    "# Rescale the predictions and target variable\n",
    "predictions_rescaled = scaler.inverse_transform(predictions)\n",
    "target_test_rescaled = scaler.inverse_transform(target_variable_scaled[split_index + time_steps:].reshape(-1, 1))\n",
    "\n",
    "# Calculate the root mean squared error (RMSE)\n",
    "rmse = np.sqrt(np.mean((predictions_rescaled - target_test_rescaled) ** 2))\n",
    "print('RMSE:', rmse)\n"
   ]
  },
  {
   "cell_type": "code",
   "execution_count": 19,
   "id": "199910fb",
   "metadata": {},
   "outputs": [
    {
     "data": {
      "text/plain": [
       "109.01422678790314"
      ]
     },
     "execution_count": 19,
     "metadata": {},
     "output_type": "execute_result"
    }
   ],
   "source": [
    "from sklearn.metrics import mean_squared_error\n",
    "mean_squared_error(predictions_rescaled, target_test_rescaled) #"
   ]
  },
  {
   "cell_type": "code",
   "execution_count": 13,
   "id": "d852acec",
   "metadata": {},
   "outputs": [
    {
     "data": {
      "text/plain": [
       "9.873328012075179"
      ]
     },
     "execution_count": 13,
     "metadata": {},
     "output_type": "execute_result"
    }
   ],
   "source": [
    "from sklearn.metrics import mean_absolute_error\n",
    "mean_absolute_error(predictions_rescaled, target_test_rescaled) #"
   ]
  },
  {
   "cell_type": "code",
   "execution_count": 158,
   "id": "5d4d753d",
   "metadata": {},
   "outputs": [
    {
     "name": "stdout",
     "output_type": "stream",
     "text": [
      "     Predicted Prediction  Test Output\n",
      "0               13.371153         16.0\n",
      "1               17.925447         20.0\n",
      "2               19.706711         24.0\n",
      "3               13.115160         10.0\n",
      "4               24.100447         19.0\n",
      "..                    ...          ...\n",
      "800             16.143347         10.0\n",
      "801             11.728500         51.0\n",
      "802             22.544617         43.0\n",
      "803             15.075020         27.0\n",
      "804             19.486526         17.0\n",
      "\n",
      "[805 rows x 2 columns]\n"
     ]
    }
   ],
   "source": [
    "# Rescale the training output, predicted predictions, and test output\n",
    "train_output_rescaled = scaler.inverse_transform(target_train)\n",
    "predicted_predictions_rescaled = scaler.inverse_transform(predictions.reshape(-1, 1))\n",
    "test_output_rescaled = scaler.inverse_transform(target_test[time_steps:].reshape(-1, 1))\n",
    "\n",
    "# Concatenate the arrays\n",
    "result = np.concatenate(( predicted_predictions_rescaled, test_output_rescaled), axis=1)\n",
    "\n",
    "# Create a DataFrame with the concatenated results\n",
    "df_result = pd.DataFrame(result, columns=[ 'Predicted Prediction', 'Test Output'])\n",
    "print(df_result)\n"
   ]
  },
  {
   "cell_type": "code",
   "execution_count": 163,
   "id": "ec1e9261",
   "metadata": {},
   "outputs": [
    {
     "data": {
      "text/plain": [
       "(805, 1)"
      ]
     },
     "execution_count": 163,
     "metadata": {},
     "output_type": "execute_result"
    }
   ],
   "source": [
    "train_output_rescaled.shape\n",
    "df.index[3279:].shape\n",
    "\n",
    "predicted_predictions_rescaled.shape\n",
    "#test_output_rescaled.shape"
   ]
  },
  {
   "cell_type": "code",
   "execution_count": 167,
   "id": "e8da2b51",
   "metadata": {},
   "outputs": [],
   "source": [
    "train_output_rescaled=pd.DataFrame(train_output_rescaled)"
   ]
  },
  {
   "cell_type": "code",
   "execution_count": 169,
   "id": "29b7589c",
   "metadata": {},
   "outputs": [],
   "source": [
    "n_steps=10\n",
    "line = train_output_rescaled.rolling(n_steps).mean()"
   ]
  },
  {
   "cell_type": "code",
   "execution_count": null,
   "id": "522a89dc",
   "metadata": {},
   "outputs": [],
   "source": []
  }
 ],
 "metadata": {
  "kernelspec": {
   "display_name": "Python 3 (ipykernel)",
   "language": "python",
   "name": "python3"
  },
  "language_info": {
   "codemirror_mode": {
    "name": "ipython",
    "version": 3
   },
   "file_extension": ".py",
   "mimetype": "text/x-python",
   "name": "python",
   "nbconvert_exporter": "python",
   "pygments_lexer": "ipython3",
   "version": "3.10.2"
  }
 },
 "nbformat": 4,
 "nbformat_minor": 5
}
